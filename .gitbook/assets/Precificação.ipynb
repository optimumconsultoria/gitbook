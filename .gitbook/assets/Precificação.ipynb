{
  "cells": [
    {
      "cell_type": "markdown",
      "id": "50ffbbcb",
      "metadata": {
        "id": "50ffbbcb"
      },
      "source": [
        "# Determinação de função de precificação para suporte a tomada de decisão"
      ]
    },
    {
      "cell_type": "code",
      "source": [
        "# !pip install pandas\n",
        "# !pip install numpy"
      ],
      "metadata": {
        "id": "oln65w-KL6e0"
      },
      "id": "oln65w-KL6e0",
      "execution_count": null,
      "outputs": []
    },
    {
      "cell_type": "code",
      "execution_count": null,
      "id": "d490eb61",
      "metadata": {
        "id": "d490eb61"
      },
      "outputs": [],
      "source": [
        "import random\n",
        "from math import *\n",
        "import pandas as pd\n",
        "import numpy as np"
      ]
    },
    {
      "cell_type": "code",
      "execution_count": null,
      "id": "c95fdc66",
      "metadata": {
        "id": "c95fdc66"
      },
      "outputs": [],
      "source": [
        "# Parâmetros\n",
        "# t: tempo (horas)\n",
        "# c: custo total\n",
        "# k: parâmetro da função\n",
        "# p: parâmetro da função 2\n",
        "# a:parâmetro da função 3 \n",
        "\n",
        "# Variável de decisão\n",
        "# x: nível de dificuldade do projeto"
      ]
    },
    {
      "cell_type": "markdown",
      "id": "947ca8cd",
      "metadata": {
        "id": "947ca8cd"
      },
      "source": [
        "## Testes para modelagem da função"
      ]
    },
    {
      "cell_type": "code",
      "execution_count": null,
      "id": "a27f117f",
      "metadata": {
        "id": "a27f117f"
      },
      "outputs": [],
      "source": [
        "# Constantes\n",
        "hora_consultor = 10\n",
        "horas_dia = 2"
      ]
    },
    {
      "cell_type": "code",
      "execution_count": null,
      "id": "7379bd36",
      "metadata": {
        "id": "7379bd36"
      },
      "outputs": [],
      "source": [
        "# Parâmetros do preço\n",
        "def param():\n",
        "    tempo = random.randint(horas_dia * 4 * 20, horas_dia * 4 * 40)\n",
        "    dificuldade = random.randint(1, 1000) / 1000\n",
        "    custo_total = random.randint(500, 2000)\n",
        "    return [custo_total, tempo, dificuldade]"
      ]
    },
    {
      "cell_type": "code",
      "execution_count": null,
      "id": "4412ec47",
      "metadata": {
        "id": "4412ec47"
      },
      "outputs": [],
      "source": [
        "def preco(hora_consultor, k=9, p=1, a=5):\n",
        "    parametros = param()\n",
        "    x = parametros[2]\n",
        "    h = hora_consultor\n",
        "    t = parametros[1]\n",
        "    c = parametros[0]\n",
        "    \n",
        "    return [(1 / (p + exp(-k * x + a)) + 1) * c + (1 / (p + exp(-k * x + a)) + 1) * h * t, \n",
        "            parametros[0], parametros[1], parametros[2], (1 / (p + exp(-k * x + a)) + 1)]"
      ]
    },
    {
      "cell_type": "markdown",
      "id": "7f989b35",
      "metadata": {
        "id": "7f989b35"
      },
      "source": [
        "## Análise dos resultados"
      ]
    },
    {
      "cell_type": "code",
      "execution_count": null,
      "id": "977a84ab",
      "metadata": {
        "id": "977a84ab"
      },
      "outputs": [],
      "source": [
        "def main():\n",
        "    precos = []\n",
        "    for i in range(1000):\n",
        "        precos.append(preco(hora_consultor))\n",
        "    \n",
        "    precos = pd.DataFrame(precos)\n",
        "    precos = precos.rename(columns={0: 'Preco', 1: 'Custo total', 2: 'Tempo', 3: 'Dificuldade', 4: 'Fator mult'})\n",
        "    \n",
        "    return precos"
      ]
    },
    {
      "cell_type": "code",
      "execution_count": null,
      "id": "e9d7cc48",
      "metadata": {
        "scrolled": true,
        "id": "e9d7cc48"
      },
      "outputs": [],
      "source": [
        "df = main()"
      ]
    },
    {
      "cell_type": "code",
      "execution_count": null,
      "id": "c0b6cf3a",
      "metadata": {
        "id": "c0b6cf3a",
        "outputId": "ee13bb04-5fd7-4206-d8c6-ee39be48dbbc",
        "colab": {
          "base_uri": "https://localhost:8080/",
          "height": 206
        }
      },
      "outputs": [
        {
          "output_type": "execute_result",
          "data": {
            "text/plain": [
              "         Preco  Custo total  Tempo  Dificuldade  Fator mult\n",
              "0  4429.294396         1249    233        0.426    1.237579\n",
              "1  6904.631061          792    284        0.801    1.901055\n",
              "2  3391.406619         1126    223        0.051    1.010550\n",
              "3  6542.693888         1282    210        0.851    1.934564\n",
              "4  3788.388438         1122    252        0.203    1.040195"
            ],
            "text/html": [
              "\n",
              "  <div id=\"df-2052755b-38d3-4567-b493-b4834c9ddb60\">\n",
              "    <div class=\"colab-df-container\">\n",
              "      <div>\n",
              "<style scoped>\n",
              "    .dataframe tbody tr th:only-of-type {\n",
              "        vertical-align: middle;\n",
              "    }\n",
              "\n",
              "    .dataframe tbody tr th {\n",
              "        vertical-align: top;\n",
              "    }\n",
              "\n",
              "    .dataframe thead th {\n",
              "        text-align: right;\n",
              "    }\n",
              "</style>\n",
              "<table border=\"1\" class=\"dataframe\">\n",
              "  <thead>\n",
              "    <tr style=\"text-align: right;\">\n",
              "      <th></th>\n",
              "      <th>Preco</th>\n",
              "      <th>Custo total</th>\n",
              "      <th>Tempo</th>\n",
              "      <th>Dificuldade</th>\n",
              "      <th>Fator mult</th>\n",
              "    </tr>\n",
              "  </thead>\n",
              "  <tbody>\n",
              "    <tr>\n",
              "      <th>0</th>\n",
              "      <td>4429.294396</td>\n",
              "      <td>1249</td>\n",
              "      <td>233</td>\n",
              "      <td>0.426</td>\n",
              "      <td>1.237579</td>\n",
              "    </tr>\n",
              "    <tr>\n",
              "      <th>1</th>\n",
              "      <td>6904.631061</td>\n",
              "      <td>792</td>\n",
              "      <td>284</td>\n",
              "      <td>0.801</td>\n",
              "      <td>1.901055</td>\n",
              "    </tr>\n",
              "    <tr>\n",
              "      <th>2</th>\n",
              "      <td>3391.406619</td>\n",
              "      <td>1126</td>\n",
              "      <td>223</td>\n",
              "      <td>0.051</td>\n",
              "      <td>1.010550</td>\n",
              "    </tr>\n",
              "    <tr>\n",
              "      <th>3</th>\n",
              "      <td>6542.693888</td>\n",
              "      <td>1282</td>\n",
              "      <td>210</td>\n",
              "      <td>0.851</td>\n",
              "      <td>1.934564</td>\n",
              "    </tr>\n",
              "    <tr>\n",
              "      <th>4</th>\n",
              "      <td>3788.388438</td>\n",
              "      <td>1122</td>\n",
              "      <td>252</td>\n",
              "      <td>0.203</td>\n",
              "      <td>1.040195</td>\n",
              "    </tr>\n",
              "  </tbody>\n",
              "</table>\n",
              "</div>\n",
              "      <button class=\"colab-df-convert\" onclick=\"convertToInteractive('df-2052755b-38d3-4567-b493-b4834c9ddb60')\"\n",
              "              title=\"Convert this dataframe to an interactive table.\"\n",
              "              style=\"display:none;\">\n",
              "        \n",
              "  <svg xmlns=\"http://www.w3.org/2000/svg\" height=\"24px\"viewBox=\"0 0 24 24\"\n",
              "       width=\"24px\">\n",
              "    <path d=\"M0 0h24v24H0V0z\" fill=\"none\"/>\n",
              "    <path d=\"M18.56 5.44l.94 2.06.94-2.06 2.06-.94-2.06-.94-.94-2.06-.94 2.06-2.06.94zm-11 1L8.5 8.5l.94-2.06 2.06-.94-2.06-.94L8.5 2.5l-.94 2.06-2.06.94zm10 10l.94 2.06.94-2.06 2.06-.94-2.06-.94-.94-2.06-.94 2.06-2.06.94z\"/><path d=\"M17.41 7.96l-1.37-1.37c-.4-.4-.92-.59-1.43-.59-.52 0-1.04.2-1.43.59L10.3 9.45l-7.72 7.72c-.78.78-.78 2.05 0 2.83L4 21.41c.39.39.9.59 1.41.59.51 0 1.02-.2 1.41-.59l7.78-7.78 2.81-2.81c.8-.78.8-2.07 0-2.86zM5.41 20L4 18.59l7.72-7.72 1.47 1.35L5.41 20z\"/>\n",
              "  </svg>\n",
              "      </button>\n",
              "      \n",
              "  <style>\n",
              "    .colab-df-container {\n",
              "      display:flex;\n",
              "      flex-wrap:wrap;\n",
              "      gap: 12px;\n",
              "    }\n",
              "\n",
              "    .colab-df-convert {\n",
              "      background-color: #E8F0FE;\n",
              "      border: none;\n",
              "      border-radius: 50%;\n",
              "      cursor: pointer;\n",
              "      display: none;\n",
              "      fill: #1967D2;\n",
              "      height: 32px;\n",
              "      padding: 0 0 0 0;\n",
              "      width: 32px;\n",
              "    }\n",
              "\n",
              "    .colab-df-convert:hover {\n",
              "      background-color: #E2EBFA;\n",
              "      box-shadow: 0px 1px 2px rgba(60, 64, 67, 0.3), 0px 1px 3px 1px rgba(60, 64, 67, 0.15);\n",
              "      fill: #174EA6;\n",
              "    }\n",
              "\n",
              "    [theme=dark] .colab-df-convert {\n",
              "      background-color: #3B4455;\n",
              "      fill: #D2E3FC;\n",
              "    }\n",
              "\n",
              "    [theme=dark] .colab-df-convert:hover {\n",
              "      background-color: #434B5C;\n",
              "      box-shadow: 0px 1px 3px 1px rgba(0, 0, 0, 0.15);\n",
              "      filter: drop-shadow(0px 1px 2px rgba(0, 0, 0, 0.3));\n",
              "      fill: #FFFFFF;\n",
              "    }\n",
              "  </style>\n",
              "\n",
              "      <script>\n",
              "        const buttonEl =\n",
              "          document.querySelector('#df-2052755b-38d3-4567-b493-b4834c9ddb60 button.colab-df-convert');\n",
              "        buttonEl.style.display =\n",
              "          google.colab.kernel.accessAllowed ? 'block' : 'none';\n",
              "\n",
              "        async function convertToInteractive(key) {\n",
              "          const element = document.querySelector('#df-2052755b-38d3-4567-b493-b4834c9ddb60');\n",
              "          const dataTable =\n",
              "            await google.colab.kernel.invokeFunction('convertToInteractive',\n",
              "                                                     [key], {});\n",
              "          if (!dataTable) return;\n",
              "\n",
              "          const docLinkHtml = 'Like what you see? Visit the ' +\n",
              "            '<a target=\"_blank\" href=https://colab.research.google.com/notebooks/data_table.ipynb>data table notebook</a>'\n",
              "            + ' to learn more about interactive tables.';\n",
              "          element.innerHTML = '';\n",
              "          dataTable['output_type'] = 'display_data';\n",
              "          await google.colab.output.renderOutput(dataTable, element);\n",
              "          const docLink = document.createElement('div');\n",
              "          docLink.innerHTML = docLinkHtml;\n",
              "          element.appendChild(docLink);\n",
              "        }\n",
              "      </script>\n",
              "    </div>\n",
              "  </div>\n",
              "  "
            ]
          },
          "metadata": {},
          "execution_count": 105
        }
      ],
      "source": [
        "df.head()"
      ]
    },
    {
      "cell_type": "code",
      "execution_count": null,
      "id": "02143f01",
      "metadata": {
        "id": "02143f01",
        "colab": {
          "base_uri": "https://localhost:8080/",
          "height": 206
        },
        "outputId": "98d13641-c326-486d-f417-3c32b689e80c"
      },
      "outputs": [
        {
          "output_type": "execute_result",
          "data": {
            "text/plain": [
              "                Preco  Custo total     Tempo  Dificuldade  Fator mult\n",
              "Preco        1.000000     0.357587  0.365539     0.807585    0.827984\n",
              "Custo total  0.357587     1.000000 -0.052383     0.004394    0.003940\n",
              "Tempo        0.365539    -0.052383  1.000000    -0.031784   -0.030649\n",
              "Dificuldade  0.807585     0.004394 -0.031784     1.000000    0.975821\n",
              "Fator mult   0.827984     0.003940 -0.030649     0.975821    1.000000"
            ],
            "text/html": [
              "\n",
              "  <div id=\"df-be2a81ea-753f-4b78-a1c9-addb51d88bd1\">\n",
              "    <div class=\"colab-df-container\">\n",
              "      <div>\n",
              "<style scoped>\n",
              "    .dataframe tbody tr th:only-of-type {\n",
              "        vertical-align: middle;\n",
              "    }\n",
              "\n",
              "    .dataframe tbody tr th {\n",
              "        vertical-align: top;\n",
              "    }\n",
              "\n",
              "    .dataframe thead th {\n",
              "        text-align: right;\n",
              "    }\n",
              "</style>\n",
              "<table border=\"1\" class=\"dataframe\">\n",
              "  <thead>\n",
              "    <tr style=\"text-align: right;\">\n",
              "      <th></th>\n",
              "      <th>Preco</th>\n",
              "      <th>Custo total</th>\n",
              "      <th>Tempo</th>\n",
              "      <th>Dificuldade</th>\n",
              "      <th>Fator mult</th>\n",
              "    </tr>\n",
              "  </thead>\n",
              "  <tbody>\n",
              "    <tr>\n",
              "      <th>Preco</th>\n",
              "      <td>1.000000</td>\n",
              "      <td>0.357587</td>\n",
              "      <td>0.365539</td>\n",
              "      <td>0.807585</td>\n",
              "      <td>0.827984</td>\n",
              "    </tr>\n",
              "    <tr>\n",
              "      <th>Custo total</th>\n",
              "      <td>0.357587</td>\n",
              "      <td>1.000000</td>\n",
              "      <td>-0.052383</td>\n",
              "      <td>0.004394</td>\n",
              "      <td>0.003940</td>\n",
              "    </tr>\n",
              "    <tr>\n",
              "      <th>Tempo</th>\n",
              "      <td>0.365539</td>\n",
              "      <td>-0.052383</td>\n",
              "      <td>1.000000</td>\n",
              "      <td>-0.031784</td>\n",
              "      <td>-0.030649</td>\n",
              "    </tr>\n",
              "    <tr>\n",
              "      <th>Dificuldade</th>\n",
              "      <td>0.807585</td>\n",
              "      <td>0.004394</td>\n",
              "      <td>-0.031784</td>\n",
              "      <td>1.000000</td>\n",
              "      <td>0.975821</td>\n",
              "    </tr>\n",
              "    <tr>\n",
              "      <th>Fator mult</th>\n",
              "      <td>0.827984</td>\n",
              "      <td>0.003940</td>\n",
              "      <td>-0.030649</td>\n",
              "      <td>0.975821</td>\n",
              "      <td>1.000000</td>\n",
              "    </tr>\n",
              "  </tbody>\n",
              "</table>\n",
              "</div>\n",
              "      <button class=\"colab-df-convert\" onclick=\"convertToInteractive('df-be2a81ea-753f-4b78-a1c9-addb51d88bd1')\"\n",
              "              title=\"Convert this dataframe to an interactive table.\"\n",
              "              style=\"display:none;\">\n",
              "        \n",
              "  <svg xmlns=\"http://www.w3.org/2000/svg\" height=\"24px\"viewBox=\"0 0 24 24\"\n",
              "       width=\"24px\">\n",
              "    <path d=\"M0 0h24v24H0V0z\" fill=\"none\"/>\n",
              "    <path d=\"M18.56 5.44l.94 2.06.94-2.06 2.06-.94-2.06-.94-.94-2.06-.94 2.06-2.06.94zm-11 1L8.5 8.5l.94-2.06 2.06-.94-2.06-.94L8.5 2.5l-.94 2.06-2.06.94zm10 10l.94 2.06.94-2.06 2.06-.94-2.06-.94-.94-2.06-.94 2.06-2.06.94z\"/><path d=\"M17.41 7.96l-1.37-1.37c-.4-.4-.92-.59-1.43-.59-.52 0-1.04.2-1.43.59L10.3 9.45l-7.72 7.72c-.78.78-.78 2.05 0 2.83L4 21.41c.39.39.9.59 1.41.59.51 0 1.02-.2 1.41-.59l7.78-7.78 2.81-2.81c.8-.78.8-2.07 0-2.86zM5.41 20L4 18.59l7.72-7.72 1.47 1.35L5.41 20z\"/>\n",
              "  </svg>\n",
              "      </button>\n",
              "      \n",
              "  <style>\n",
              "    .colab-df-container {\n",
              "      display:flex;\n",
              "      flex-wrap:wrap;\n",
              "      gap: 12px;\n",
              "    }\n",
              "\n",
              "    .colab-df-convert {\n",
              "      background-color: #E8F0FE;\n",
              "      border: none;\n",
              "      border-radius: 50%;\n",
              "      cursor: pointer;\n",
              "      display: none;\n",
              "      fill: #1967D2;\n",
              "      height: 32px;\n",
              "      padding: 0 0 0 0;\n",
              "      width: 32px;\n",
              "    }\n",
              "\n",
              "    .colab-df-convert:hover {\n",
              "      background-color: #E2EBFA;\n",
              "      box-shadow: 0px 1px 2px rgba(60, 64, 67, 0.3), 0px 1px 3px 1px rgba(60, 64, 67, 0.15);\n",
              "      fill: #174EA6;\n",
              "    }\n",
              "\n",
              "    [theme=dark] .colab-df-convert {\n",
              "      background-color: #3B4455;\n",
              "      fill: #D2E3FC;\n",
              "    }\n",
              "\n",
              "    [theme=dark] .colab-df-convert:hover {\n",
              "      background-color: #434B5C;\n",
              "      box-shadow: 0px 1px 3px 1px rgba(0, 0, 0, 0.15);\n",
              "      filter: drop-shadow(0px 1px 2px rgba(0, 0, 0, 0.3));\n",
              "      fill: #FFFFFF;\n",
              "    }\n",
              "  </style>\n",
              "\n",
              "      <script>\n",
              "        const buttonEl =\n",
              "          document.querySelector('#df-be2a81ea-753f-4b78-a1c9-addb51d88bd1 button.colab-df-convert');\n",
              "        buttonEl.style.display =\n",
              "          google.colab.kernel.accessAllowed ? 'block' : 'none';\n",
              "\n",
              "        async function convertToInteractive(key) {\n",
              "          const element = document.querySelector('#df-be2a81ea-753f-4b78-a1c9-addb51d88bd1');\n",
              "          const dataTable =\n",
              "            await google.colab.kernel.invokeFunction('convertToInteractive',\n",
              "                                                     [key], {});\n",
              "          if (!dataTable) return;\n",
              "\n",
              "          const docLinkHtml = 'Like what you see? Visit the ' +\n",
              "            '<a target=\"_blank\" href=https://colab.research.google.com/notebooks/data_table.ipynb>data table notebook</a>'\n",
              "            + ' to learn more about interactive tables.';\n",
              "          element.innerHTML = '';\n",
              "          dataTable['output_type'] = 'display_data';\n",
              "          await google.colab.output.renderOutput(dataTable, element);\n",
              "          const docLink = document.createElement('div');\n",
              "          docLink.innerHTML = docLinkHtml;\n",
              "          element.appendChild(docLink);\n",
              "        }\n",
              "      </script>\n",
              "    </div>\n",
              "  </div>\n",
              "  "
            ]
          },
          "metadata": {},
          "execution_count": 104
        }
      ],
      "source": [
        "df.corr()"
      ]
    },
    {
      "cell_type": "code",
      "execution_count": null,
      "id": "46f46737",
      "metadata": {
        "id": "46f46737",
        "colab": {
          "base_uri": "https://localhost:8080/",
          "height": 283
        },
        "outputId": "2d78a9ef-6de7-48a9-ecd8-2acb09c4e482"
      },
      "outputs": [
        {
          "output_type": "execute_result",
          "data": {
            "text/plain": [
              "<matplotlib.axes._subplots.AxesSubplot at 0x7f21e6e3a290>"
            ]
          },
          "metadata": {},
          "execution_count": 72
        },
        {
          "output_type": "display_data",
          "data": {
            "text/plain": [
              "<Figure size 432x288 with 1 Axes>"
            ],
            "image/png": "[encoded data removed]"
          },
          "metadata": {
            "needs_background": "light"
          }
        }
      ],
      "source": [
        "# Boxplot\n",
        "boxplot = df.boxplot(column=['Preco'])\n",
        "boxplot"
      ]
    },
    {
      "cell_type": "code",
      "execution_count": null,
      "id": "9faf5975",
      "metadata": {
        "id": "9faf5975",
        "outputId": "e9f8abea-35ae-4778-8fd6-45b9e934c875",
        "colab": {
          "base_uri": "https://localhost:8080/",
          "height": 297
        }
      },
      "outputs": [
        {
          "output_type": "execute_result",
          "data": {
            "text/plain": [
              "<matplotlib.axes._subplots.AxesSubplot at 0x7f21e6ba15d0>"
            ]
          },
          "metadata": {},
          "execution_count": 73
        },
        {
          "output_type": "display_data",
          "data": {
            "text/plain": [
              "<Figure size 432x288 with 1 Axes>"
            ],
            "image/png": "[encoded data removed]"
          },
          "metadata": {
            "needs_background": "light"
          }
        }
      ],
      "source": [
        "# Scatter\n",
        "df.plot.scatter(x = 'Dificuldade', y = 'Preco')"
      ]
    },
    {
      "cell_type": "code",
      "execution_count": null,
      "id": "f43d237f",
      "metadata": {
        "id": "f43d237f",
        "outputId": "63a85999-d145-495c-98d8-e359bee61981",
        "colab": {
          "base_uri": "https://localhost:8080/",
          "height": 297
        }
      },
      "outputs": [
        {
          "output_type": "execute_result",
          "data": {
            "text/plain": [
              "<matplotlib.axes._subplots.AxesSubplot at 0x7f21e6b22e10>"
            ]
          },
          "metadata": {},
          "execution_count": 74
        },
        {
          "output_type": "display_data",
          "data": {
            "text/plain": [
              "<Figure size 432x288 with 1 Axes>"
            ],
            "image/png": "[encoded data removed]"
          },
          "metadata": {
            "needs_background": "light"
          }
        }
      ],
      "source": [
        "df.plot.scatter(x = 'Tempo', y = 'Preco')"
      ]
    },
    {
      "cell_type": "code",
      "execution_count": null,
      "id": "49f1d46a",
      "metadata": {
        "scrolled": true,
        "id": "49f1d46a",
        "outputId": "08ec71f0-c38a-49e6-9440-c77b8c12c38b",
        "colab": {
          "base_uri": "https://localhost:8080/",
          "height": 297
        }
      },
      "outputs": [
        {
          "output_type": "execute_result",
          "data": {
            "text/plain": [
              "<matplotlib.axes._subplots.AxesSubplot at 0x7f21e6bb6a10>"
            ]
          },
          "metadata": {},
          "execution_count": 75
        },
        {
          "output_type": "display_data",
          "data": {
            "text/plain": [
              "<Figure size 432x288 with 1 Axes>"
            ],
            "image/png": "[encoded data removed]"
          },
          "metadata": {
            "needs_background": "light"
          }
        }
      ],
      "source": [
        "df.plot.scatter(x = 'Fator mult', y = 'Preco')"
      ]
    },
    {
      "cell_type": "markdown",
      "id": "6c2125b6",
      "metadata": {
        "id": "6c2125b6"
      },
      "source": [
        "## Função"
      ]
    },
    {
      "cell_type": "code",
      "execution_count": null,
      "id": "86439ecd",
      "metadata": {
        "id": "86439ecd"
      },
      "outputs": [],
      "source": [
        "# Parâmetros do projeto\n",
        "numero_consultores = 4  # Número de consultores no projeto\n",
        "hora_consultor = 30  # Valor pago por hora de trabalho do consultor, em R$\n",
        "dias_total = 20  # Duração do projeto em dias\n",
        "horas_dia = 2  # Disponibilidade de horas para trabalhar por dia\n",
        "dificuldade = 0.5  # Nível de dificuldade do projeto, valor de 0 a 1\n",
        "custo = 2000  # Custo do projeto, excluindo despesas com mão-de-obra"
      ]
    },
    {
      "cell_type": "code",
      "execution_count": null,
      "id": "94e3124d",
      "metadata": {
        "id": "94e3124d"
      },
      "outputs": [],
      "source": [
        "# Parâmetros da função\n",
        "k = 9\n",
        "p = 1\n",
        "a = 5"
      ]
    },
    {
      "cell_type": "code",
      "execution_count": null,
      "id": "66984d43",
      "metadata": {
        "id": "66984d43"
      },
      "outputs": [],
      "source": [
        "def param():\n",
        "    tempo = horas_dia * dias_total * numero_consultores   # Total de horas trabalhadas no projeto\n",
        "    return [dificuldade, custo, tempo, hora_consultor]"
      ]
    },
    {
      "cell_type": "code",
      "execution_count": null,
      "id": "ca26667d",
      "metadata": {
        "id": "ca26667d"
      },
      "outputs": [],
      "source": [
        "def preco(k=k, p=p, a=a):\n",
        "    parametros = param()\n",
        "    x = parametros[0]  # Dificuldade (float 0 a 1)\n",
        "    c = parametros[1]  # Custo total (R$)\n",
        "    t = parametros[2]  # Tempo total de projeto (horas)\n",
        "    h = parametros[3]  # Custo hora/consultor (R$)\n",
        "    \n",
        "    return [(1 / (p + exp(-k * x + a)) + 1) * c + (1 / (p + exp(-k * x + a)) + 1) * h * t, (1 / (p + exp(-k * x + a)) + 1) * c]"
      ]
    },
    {
      "cell_type": "code",
      "execution_count": null,
      "id": "56ba0bf9",
      "metadata": {
        "id": "56ba0bf9",
        "outputId": "3fda44c6-55f7-4972-8162-94aba385487f",
        "colab": {
          "base_uri": "https://localhost:8080/"
        }
      },
      "outputs": [
        {
          "output_type": "stream",
          "name": "stdout",
          "text": [
            "Preço estimado do projeto: R$ 9367.28, R$ 2755.08\n"
          ]
        }
      ],
      "source": [
        "print('Preço estimado do projeto: R$ {:.2f}, R$ {:.2f}'.format(preco()[0], preco()[1]))"
      ]
    }
  ],
  "metadata": {
    "kernelspec": {
      "display_name": "Python 3 (ipykernel)",
      "language": "python",
      "name": "python3"
    },
    "language_info": {
      "codemirror_mode": {
        "name": "ipython",
        "version": 3
      },
      "file_extension": ".py",
      "mimetype": "text/x-python",
      "name": "python",
      "nbconvert_exporter": "python",
      "pygments_lexer": "ipython3",
      "version": "3.9.5"
    },
    "colab": {
      "provenance": []
    }
  },
  "nbformat": 4,
  "nbformat_minor": 5
}